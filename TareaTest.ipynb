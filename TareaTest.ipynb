{
  "nbformat": 4,
  "nbformat_minor": 0,
  "metadata": {
    "colab": {
      "name": "TareaTest.ipynb",
      "provenance": [],
      "collapsed_sections": [],
      "authorship_tag": "ABX9TyNP4mG+fvQh65S/sBdvDySp",
      "include_colab_link": true
    },
    "kernelspec": {
      "name": "python3",
      "display_name": "Python 3"
    },
    "language_info": {
      "name": "python"
    }
  },
  "cells": [
    {
      "cell_type": "markdown",
      "metadata": {
        "id": "view-in-github",
        "colab_type": "text"
      },
      "source": [
        "<a href=\"https://colab.research.google.com/github/jmbarrios/testTarea/blob/main/TareaTest.ipynb\" target=\"_parent\"><img src=\"https://colab.research.google.com/assets/colab-badge.svg\" alt=\"Open In Colab\"/></a>"
      ]
    },
    {
      "cell_type": "markdown",
      "metadata": {
        "id": "v9rBfeiwxP9k"
      },
      "source": [
        "# Tarea 1"
      ]
    },
    {
      "cell_type": "markdown",
      "metadata": {
        "id": "HTY0N0VpxeKV"
      },
      "source": [
        "- Crear una función para sumar dos valores"
      ]
    },
    {
      "cell_type": "code",
      "metadata": {
        "id": "lA8fpjz8xoF3"
      },
      "source": [
        "# ex6003 NO MODIFICAR\n",
        "def suma(a, b):\n",
        "    pass"
      ],
      "execution_count": null,
      "outputs": []
    },
    {
      "cell_type": "code",
      "metadata": {
        "id": "e8SHKky_yHXC"
      },
      "source": [
        "suma(1, 2)"
      ],
      "execution_count": null,
      "outputs": []
    },
    {
      "cell_type": "code",
      "metadata": {
        "id": "1mq5D9adyKE6"
      },
      "source": [
        "suma(3, 4)"
      ],
      "execution_count": null,
      "outputs": []
    },
    {
      "cell_type": "markdown",
      "metadata": {
        "id": "uzreBvH8yL9H"
      },
      "source": [
        "- Crea una función que salude a una persona dada su nombre, por ejemplo dado Juan imprimir Hola Juan"
      ]
    },
    {
      "cell_type": "code",
      "metadata": {
        "id": "2ncnt4_KySuB"
      },
      "source": [
        "# ex6003 NO MODIFICAR\n",
        "def saludo(nombre):\n",
        "    pass"
      ],
      "execution_count": null,
      "outputs": []
    },
    {
      "cell_type": "code",
      "metadata": {
        "id": "jtAOc62FysaI"
      },
      "source": [
        "saludo('Juan')"
      ],
      "execution_count": null,
      "outputs": []
    },
    {
      "cell_type": "code",
      "metadata": {
        "id": "RXDadZIyyxZD"
      },
      "source": [
        "saludo('Ana')"
      ],
      "execution_count": null,
      "outputs": []
    },
    {
      "cell_type": "code",
      "metadata": {
        "id": "lXZARS2Vy0gV"
      },
      "source": [
        ""
      ],
      "execution_count": null,
      "outputs": []
    }
  ]
}